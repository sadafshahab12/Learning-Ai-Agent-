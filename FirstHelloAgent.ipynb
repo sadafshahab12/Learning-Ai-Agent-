{
  "nbformat": 4,
  "nbformat_minor": 0,
  "metadata": {
    "colab": {
      "provenance": [],
      "authorship_tag": "ABX9TyN7YqcXRLUGof70M9N/Ltd6",
      "include_colab_link": true
    },
    "kernelspec": {
      "name": "python3",
      "display_name": "Python 3"
    },
    "language_info": {
      "name": "python"
    }
  },
  "cells": [
    {
      "cell_type": "markdown",
      "metadata": {
        "id": "view-in-github",
        "colab_type": "text"
      },
      "source": [
        "<a href=\"https://colab.research.google.com/github/sadafshahab12/Learning-Ai-Agent-/blob/main/FirstHelloAgent.ipynb\" target=\"_parent\"><img src=\"https://colab.research.google.com/assets/colab-badge.svg\" alt=\"Open In Colab\"/></a>"
      ]
    },
    {
      "cell_type": "code",
      "execution_count": 1,
      "metadata": {
        "colab": {
          "base_uri": "https://localhost:8080/"
        },
        "id": "U7TP98mVJYt2",
        "outputId": "598c2ca7-5cb9-4520-d42d-a25d85e24db9"
      },
      "outputs": [
        {
          "output_type": "stream",
          "name": "stdout",
          "text": [
            "\u001b[2K     \u001b[90m━━━━━━━━━━━━━━━━━━━━━━━━━━━━━━━━━━━━━━━━\u001b[0m \u001b[32m61.0/61.0 kB\u001b[0m \u001b[31m2.1 MB/s\u001b[0m eta \u001b[36m0:00:00\u001b[0m\n",
            "\u001b[2K   \u001b[90m━━━━━━━━━━━━━━━━━━━━━━━━━━━━━━━━━━━━━━━━\u001b[0m \u001b[32m164.3/164.3 kB\u001b[0m \u001b[31m5.0 MB/s\u001b[0m eta \u001b[36m0:00:00\u001b[0m\n",
            "\u001b[2K   \u001b[90m━━━━━━━━━━━━━━━━━━━━━━━━━━━━━━━━━━━━━━━━\u001b[0m \u001b[32m137.1/137.1 kB\u001b[0m \u001b[31m5.7 MB/s\u001b[0m eta \u001b[36m0:00:00\u001b[0m\n",
            "\u001b[2K   \u001b[90m━━━━━━━━━━━━━━━━━━━━━━━━━━━━━━━━━━━━━━━━\u001b[0m \u001b[32m158.8/158.8 kB\u001b[0m \u001b[31m5.0 MB/s\u001b[0m eta \u001b[36m0:00:00\u001b[0m\n",
            "\u001b[2K   \u001b[90m━━━━━━━━━━━━━━━━━━━━━━━━━━━━━━━━━━━━━━━━\u001b[0m \u001b[32m45.2/45.2 kB\u001b[0m \u001b[31m1.4 MB/s\u001b[0m eta \u001b[36m0:00:00\u001b[0m\n",
            "\u001b[?25h"
          ]
        }
      ],
      "source": [
        "!pip install -Uq openai-agents\n"
      ]
    },
    {
      "cell_type": "code",
      "source": [
        "import nest_asyncio\n",
        "nest_asyncio.apply()\n",
        "\n",
        "from agents import  Agent, Runner, AsyncOpenAI, OpenAIChatCompletionsModel, set_tracing_disabled\n",
        "\n",
        "from google.colab import userdata\n",
        "gemini_api_key= userdata.get(\"GEMINI_API_KEY\")\n",
        "\n",
        "set_tracing_disabled(disabled=True)\n",
        "\n",
        "# konsa llm use hora\n",
        "external_client= AsyncOpenAI(\n",
        "    api_key=gemini_api_key,\n",
        "    base_url=\"https://generativelanguage.googleapis.com/v1beta/openai/\"\n",
        ")\n",
        "\n",
        "#llm ka konsa model use horaha h\n",
        "llm_model = OpenAIChatCompletionsModel(\n",
        "    model=\"gemini-2.0-flash\",\n",
        "    openai_client=external_client,\n",
        ")\n",
        "\n",
        "math_agent = Agent(\n",
        "    name = \"MathAgent\",\n",
        "    instructions=\"You are helpful math agent.\",\n",
        "    model=llm_model,\n",
        ")\n",
        "\n",
        "result = Runner.run_sync(math_agent, input=\"What is algebra in math? I don't like algebra it is tough.\")\n",
        "print(\"My result:\" , result.final_output)"
      ],
      "metadata": {
        "id": "WVMRx23pQYM5",
        "colab": {
          "base_uri": "https://localhost:8080/"
        },
        "outputId": "563d3c6b-d05d-48c9-9871-6e10e1b30dad"
      },
      "execution_count": 17,
      "outputs": [
        {
          "output_type": "stream",
          "name": "stdout",
          "text": [
            "My result: I understand that you find algebra tough! Many people do at first. Let's break down what algebra is in a way that might make it a little less intimidating.\n",
            "\n",
            "**The Core Idea of Algebra**\n",
            "\n",
            "At its heart, algebra is a way of **representing relationships between numbers using symbols**. Think of it as a kind of mathematical shorthand.  Instead of always using specific numbers, we use letters (like *x*, *y*, *a*, *b*) to stand for unknown values or values that can change.\n",
            "\n",
            "**Why Use Symbols?**\n",
            "\n",
            "Using symbols allows us to:\n",
            "\n",
            "*   **Solve for unknowns:**  We can figure out what a missing number is in a problem.\n",
            "*   **Express general rules:** We can write formulas that work for many different situations.\n",
            "*   **Model real-world situations:** We can use algebra to describe and analyze things like distances, speeds, costs, and profits.\n",
            "\n",
            "**Key Concepts in Algebra**\n",
            "\n",
            "Here are some of the main ideas you'll encounter in algebra:\n",
            "\n",
            "*   **Variables:**  These are the symbols (usually letters) that represent unknown or changing values.  For example, in the equation `x + 3 = 7`,  *x* is the variable.\n",
            "\n",
            "*   **Constants:**  These are numbers that have a fixed value. In the equation `x + 3 = 7`, 3 and 7 are constants.\n",
            "\n",
            "*   **Expressions:**  A combination of variables, constants, and mathematical operations (+, -, ×, ÷, etc.).  Examples: `2x + 5`,  `a - b`, `y/3`\n",
            "\n",
            "*   **Equations:**  A statement that two expressions are equal.  It always has an equals sign (=).  Example:  `2x + 5 = 11`\n",
            "\n",
            "*   **Formulas:** An equation that expresses a general rule or relationship. Example: `A = lw` (Area of a rectangle = length times width)\n",
            "\n",
            "*   **Solving Equations:** Finding the value(s) of the variable(s) that make the equation true.\n",
            "\n",
            "**Simple Examples**\n",
            "\n",
            "Let's look at a couple of simple examples:\n",
            "\n",
            "1.  **Finding a missing number:**\n",
            "\n",
            "    *   \"I'm thinking of a number. If I add 2 to it, I get 5. What's the number?\"\n",
            "    *   In algebra, we can write this as:  `x + 2 = 5`\n",
            "    *   Solving for *x*, we subtract 2 from both sides: `x = 3`\n",
            "    *   So the number is 3.\n",
            "\n",
            "2.  **A general rule:**\n",
            "\n",
            "    *   \"To find the total cost of something, you multiply the price per item by the number of items.\"\n",
            "    *   In algebra, we can write this as: `Total Cost = (Price per item) * (Number of items)` or `C = p * n`\n",
            "\n",
            "**Why is Algebra Important?**\n",
            "\n",
            "Even if you don't plan to become a mathematician, algebra is useful in many areas of life:\n",
            "\n",
            "*   **Problem-solving:** It helps you develop logical thinking skills that can be applied to all sorts of problems.\n",
            "*   **Understanding technology:** Many technologies rely on algebraic principles.\n",
            "*   **Finance:** Calculating interest, budgeting, and understanding investments often involve algebra.\n",
            "*   **Science and Engineering:** Algebra is essential for these fields.\n",
            "\n",
            "**Tips for Learning Algebra**\n",
            "\n",
            "*   **Start with the basics:** Make sure you have a solid understanding of arithmetic (addition, subtraction, multiplication, division) before moving on to algebra.\n",
            "*   **Practice regularly:** The more you practice, the better you'll become.\n",
            "*   **Work through examples:** Study worked-out examples carefully.\n",
            "*   **Don't be afraid to ask for help:** If you're struggling, ask your teacher, a tutor, or a friend for help.  There are also many online resources available.\n",
            "*   **Break it down:** If a problem seems overwhelming, break it down into smaller, more manageable steps.\n",
            "*   **Relate it to real life:** Try to think about how algebra can be used to solve real-world problems.  This can make it more interesting and relevant.\n",
            "\n",
            "**It's Okay to Find it Tough!**\n",
            "\n",
            "It's perfectly normal to find algebra challenging at first. Be patient with yourself, practice regularly, and don't give up. With effort and the right resources, you can definitely improve your understanding of algebra. Good luck!\n",
            "\n"
          ]
        }
      ]
    }
  ]
}