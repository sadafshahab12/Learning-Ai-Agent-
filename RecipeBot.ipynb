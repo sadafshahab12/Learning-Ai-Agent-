{
  "nbformat": 4,
  "nbformat_minor": 0,
  "metadata": {
    "colab": {
      "provenance": [],
      "authorship_tag": "ABX9TyMPoz0VxNVzi7wAXqLmzydC",
      "include_colab_link": true
    },
    "kernelspec": {
      "name": "python3",
      "display_name": "Python 3"
    },
    "language_info": {
      "name": "python"
    }
  },
  "cells": [
    {
      "cell_type": "markdown",
      "metadata": {
        "id": "view-in-github",
        "colab_type": "text"
      },
      "source": [
        "<a href=\"https://colab.research.google.com/github/sadafshahab12/Learning-Ai-Agent-/blob/main/RecipeBot.ipynb\" target=\"_parent\"><img src=\"https://colab.research.google.com/assets/colab-badge.svg\" alt=\"Open In Colab\"/></a>"
      ]
    },
    {
      "cell_type": "code",
      "source": [
        "!pip install -Uq openai_agents"
      ],
      "metadata": {
        "colab": {
          "base_uri": "https://localhost:8080/"
        },
        "id": "EYeygQ7QTPZo",
        "outputId": "385e962e-1c99-4ef5-9949-32f04d6a644a"
      },
      "execution_count": 1,
      "outputs": [
        {
          "output_type": "stream",
          "name": "stdout",
          "text": [
            "\u001b[2K     \u001b[90m━━━━━━━━━━━━━━━━━━━━━━━━━━━━━━━━━━━━━━━━\u001b[0m \u001b[32m61.0/61.0 kB\u001b[0m \u001b[31m3.8 MB/s\u001b[0m eta \u001b[36m0:00:00\u001b[0m\n",
            "\u001b[2K   \u001b[90m━━━━━━━━━━━━━━━━━━━━━━━━━━━━━━━━━━━━━━━━\u001b[0m \u001b[32m164.3/164.3 kB\u001b[0m \u001b[31m7.5 MB/s\u001b[0m eta \u001b[36m0:00:00\u001b[0m\n",
            "\u001b[2K   \u001b[90m━━━━━━━━━━━━━━━━━━━━━━━━━━━━━━━━━━━━━━━━\u001b[0m \u001b[32m137.1/137.1 kB\u001b[0m \u001b[31m10.4 MB/s\u001b[0m eta \u001b[36m0:00:00\u001b[0m\n",
            "\u001b[2K   \u001b[90m━━━━━━━━━━━━━━━━━━━━━━━━━━━━━━━━━━━━━━━━\u001b[0m \u001b[32m158.8/158.8 kB\u001b[0m \u001b[31m8.3 MB/s\u001b[0m eta \u001b[36m0:00:00\u001b[0m\n",
            "\u001b[2K   \u001b[90m━━━━━━━━━━━━━━━━━━━━━━━━━━━━━━━━━━━━━━━━\u001b[0m \u001b[32m45.2/45.2 kB\u001b[0m \u001b[31m2.8 MB/s\u001b[0m eta \u001b[36m0:00:00\u001b[0m\n",
            "\u001b[?25h"
          ]
        }
      ]
    },
    {
      "cell_type": "code",
      "execution_count": 7,
      "metadata": {
        "colab": {
          "base_uri": "https://localhost:8080/"
        },
        "id": "weobIo4mTLXl",
        "outputId": "cc6ffc9f-a700-4fd9-9ddf-d4a48a5a75f6"
      },
      "outputs": [
        {
          "output_type": "stream",
          "name": "stdout",
          "text": [
            "What can I cook Today? \n",
            "My result: Okay, here is a simple recipe using the ingredients you have:\n",
            "\n",
            "**Tomato and Egg Toast**\n",
            "\n",
            "*Yields: 1 serving*\n",
            "*Prep time: 5 minutes*\n",
            "*Cook time: 10 minutes*\n",
            "\n",
            "**Ingredients:**\n",
            "\n",
            "*   1-2 slices of bread\n",
            "*   1-2 eggs\n",
            "*   1/4 cup chopped tomatoes\n",
            "*   1/4 cup chopped onion\n",
            "*   Salt and pepper to taste\n",
            "*   Oil or butter\n",
            "\n",
            "**Equipment**\n",
            "\n",
            "*   Frying pan\n",
            "*   Toaster or frying pan\n",
            "\n",
            "**Instructions**\n",
            "\n",
            "1.  **Prepare the vegetables:** Chop the tomatoes and onions into small pieces.\n",
            "2.  **Cook the vegetables:** Heat a little oil or butter in a frying pan. Add the chopped tomatoes and onions and cook until softened, about 5 minutes. Season with salt and pepper.\n",
            "3.  **Cook the egg:** Push the tomato and onion mixture to the side of the pan and crack the egg into the empty space. Cook until the egg is done to your liking (runny or firm). Season with salt and pepper.\n",
            "4.  **Toast the bread:** While the egg is cooking, toast the bread to your desired level of crispiness.\n",
            "5.  **Assemble:** Place the toast on a plate. Spoon the tomato and onion mixture over the toast, and then carefully place the cooked egg on top.\n",
            "6.  **Serve:** Serve immediately and enjoy!\n"
          ]
        }
      ],
      "source": [
        "import nest_asyncio\n",
        "nest_asyncio.apply()\n",
        "\n",
        "from agents import  Agent, Runner, AsyncOpenAI, OpenAIChatCompletionsModel, set_tracing_disabled\n",
        "\n",
        "from google.colab import userdata\n",
        "gemini_api_key= userdata.get(\"GEMINI_API_KEY\")\n",
        "\n",
        "set_tracing_disabled(disabled=True)\n",
        "\n",
        "# konsa llm use hora\n",
        "external_client= AsyncOpenAI(\n",
        "    api_key=gemini_api_key,\n",
        "    base_url=\"https://generativelanguage.googleapis.com/v1beta/openai/\"\n",
        ")\n",
        "\n",
        "#llm ka konsa model use horaha h\n",
        "llm_model = OpenAIChatCompletionsModel(\n",
        "    model=\"gemini-2.0-flash\",\n",
        "    openai_client=external_client,\n",
        ")\n",
        "\n",
        "def main():\n",
        "  recipe_agent = Agent(\n",
        "    name = \"RecipeBot\",\n",
        "    instructions=\"You are a helpful recipe agent. A user will give you a few ingredient they have at home and you will suggest one simpel and quick recipe using only those items.keep it short, step-by-step and easy for beginners for cook. \",\n",
        "    model=llm_model,\n",
        "  )\n",
        "  print(\"What can I cook Today? \")\n",
        "  ingredients = \"eggs, tomatoes, onions, and bread\"\n",
        "\n",
        "  result = Runner.run_sync(recipe_agent, input=f\"I have these at my home: {ingredients}. What can I cook? \")\n",
        "  print(\"My result:\" , result.final_output)\n",
        "\n",
        "\n",
        "if __name__ == \"__main__\":\n",
        "  main()"
      ]
    }
  ]
}